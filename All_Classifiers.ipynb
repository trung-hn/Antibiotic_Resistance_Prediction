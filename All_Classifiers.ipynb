{
 "cells": [
  {
   "cell_type": "code",
   "execution_count": 11,
   "metadata": {},
   "outputs": [],
   "source": [
    "import pickle\n",
    "import pandas as pd\n",
    "import seaborn as sn\n",
    "import sklearn\n",
    "import sklearn.tree as tree\n",
    "import sklearn.ensemble as ensemble\n",
    "from sklearn.datasets import make_moons\n",
    "from sklearn import svm\n",
    "from sklearn.naive_bayes import GaussianNB\n",
    "from sklearn.cluster import KMeans\n",
    "from sklearn.neural_network import MLPClassifier\n",
    "from sklearn.model_selection import train_test_split\n",
    "from sklearn.model_selection import cross_val_score\n",
    "from sklearn.metrics import accuracy_score\n",
    "from sklearn.metrics import confusion_matrix\n",
    "# from sklearn.metrics import plot_confusion_matrix\n",
    "from sklearn.neighbors import KNeighborsClassifier\n",
    "import numpy as np\n",
    "import matplotlib.pyplot as plt"
   ]
  },
  {
   "cell_type": "markdown",
   "metadata": {},
   "source": [
    "Ref:\n",
    "https://scikit-learn.org/stable/supervised_learning.html\n",
    "\n",
    "use more Ensemble learning algos"
   ]
  },
  {
   "cell_type": "markdown",
   "metadata": {},
   "source": [
    "# Get all SAL files and create 1 df"
   ]
  },
  {
   "cell_type": "code",
   "execution_count": null,
   "metadata": {},
   "outputs": [],
   "source": [
    "import os\n",
    "from pprint import pprint\n",
    "\n",
    "all_files = [f for f in os.walk('/lustre/scratch/tv349/AMR/BinaryPTrainingData/')]\n",
    "\n",
    "SAL_4k_paths = []\n",
    "for path, folders, files in all_files:\n",
    "    if \"SAL\" in path and \"k4\" in path:\n",
    "        SAL_4k_paths.append(path)\n",
    "\n",
    "for path in SAL_4k_paths:\n",
    "    sal_name = path.rsplit(\"/\", 2)[1]\n",
    "    \n",
    "    if sal_name == \"SALKAN\":\n",
    "        f0 = f\"{path}/TRAININGDATA.{sal_name}.xlsx K4-Part0.p\"\n",
    "        f1 = f\"{path}/TRAININGDATA.{sal_name}.xlsx K4-Part1.p\"\n",
    "        f2 = f\"{path}/TRAININGDATA.{sal_name}.xlsx K4-Part2.p\"\n",
    "\n",
    "        df0 = pd.read_pickle(f0)\n",
    "        df1 = pd.read_pickle(f1)\n",
    "        df2 = pd.read_pickle(f2)\n",
    "    \n",
    "# df = df0 + df1 + df2\n",
    "df = df0.append(df1, ignore_index=True)\n",
    "df = df.append(df2, ignore_index=True)"
   ]
  },
  {
   "cell_type": "code",
   "execution_count": 3,
   "metadata": {},
   "outputs": [],
   "source": [
    "# for 4 mers\n",
    "X = df.drop(columns=[\"Antibiotic\", \"MIC\"], axis=1) # pick every but (Antibiotic, MIC)\n",
    "y = df.iloc[:,1] # pick 2nd column (MIC values)"
   ]
  },
  {
   "cell_type": "code",
   "execution_count": 8,
   "metadata": {},
   "outputs": [],
   "source": [
    "# Train Test Split\n",
    "X_train, X_test, y_train, y_test = train_test_split(X, y, test_size=0.2, random_state=42)\n",
    "y_test_up = pd.DataFrame([str(float(x) + 1) for x in y_test]).iloc[:, 0]\n",
    "y_test_down = pd.DataFrame([str(float(x) - 1) for x in y_test]).iloc[:, 0]"
   ]
  },
  {
   "cell_type": "markdown",
   "metadata": {},
   "source": [
    "# Confusion matrix for 2 dilutions"
   ]
  },
  {
   "cell_type": "code",
   "execution_count": 39,
   "metadata": {},
   "outputs": [],
   "source": [
    "def create_confusion_matrix(y_test, y_pred):\n",
    "    # Get the difference between pred and test data\n",
    "    y_test_numpy = y_test.values\n",
    "    diff = y_pred.astype(float) - y_test_numpy.astype(float)\n",
    "\n",
    "    # only keep +- 1 dilutions\n",
    "    diff[diff > 1]=0\n",
    "    diff[diff < -1]=0\n",
    "\n",
    "    # force pred values to match +- 1 actual values \n",
    "    y_pred2 = y_pred.astype(float) - diff\n",
    "\n",
    "    # Confusion matrix\n",
    "    labels = [float(val) for val in sorted(set(y_test_numpy) | set(y_pred))]\n",
    "    return sklearn.metrics.confusion_matrix(y_test_numpy.astype(float), y_pred2, labels=labels), labels"
   ]
  },
  {
   "cell_type": "markdown",
   "metadata": {},
   "source": [
    "# Naive Bayes"
   ]
  },
  {
   "cell_type": "code",
   "execution_count": 10,
   "metadata": {},
   "outputs": [
    {
     "name": "stdout",
     "output_type": "stream",
     "text": [
      "Accuracy: 0.38257575757575757\n",
      "Accuracy (2 dilutions): 0.4573863636363636\n"
     ]
    }
   ],
   "source": [
    "clf = GaussianNB()\n",
    "clf.fit(X_train, y_train)\n",
    "y_pred = clf.predict(X_test)\n",
    "\n",
    "# Prediction\n",
    "score = accuracy_score(y_test, y_pred)\n",
    "print(f\"Accuracy: {score}\")\n",
    "\n",
    "# 2 dilutions Prediction\n",
    "score += accuracy_score(y_test_up, y_pred)\n",
    "score += accuracy_score(y_test_down, y_pred)\n",
    "print(f\"Accuracy (2 dilutions): {score}\")\n",
    "\n",
    "# Confusion matrix\n",
    "print(create_confusion_matrix(y_test, y_pred))"
   ]
  },
  {
   "cell_type": "markdown",
   "metadata": {},
   "source": [
    "# KNN"
   ]
  },
  {
   "cell_type": "code",
   "execution_count": 40,
   "metadata": {},
   "outputs": [
    {
     "name": "stdout",
     "output_type": "stream",
     "text": [
      "Accuracy: 0.7367424242424242\n",
      "Accuracy (2 dilutions): 0.8257575757575757\n"
     ]
    }
   ],
   "source": [
    "clf = KNeighborsClassifier(n_neighbors=20, weights='uniform', algorithm='auto', leaf_size=30, p=2)\n",
    "clf.fit(X_train, y_train)\n",
    "y_pred = clf.predict(X_test)\n",
    "\n",
    "# Prediction\n",
    "score = accuracy_score(y_test, y_pred)\n",
    "print(f\"Accuracy: {score}\")\n",
    "\n",
    "# 2 dilutions Prediction\n",
    "score += accuracy_score(y_test_up, y_pred)\n",
    "score += accuracy_score(y_test_down, y_pred)\n",
    "print(f\"Accuracy (2 dilutions): {score}\")\n",
    "\n",
    "# Confusion matrix\n",
    "print(create_confusion_matrix(y_test, y_pred))"
   ]
  },
  {
   "cell_type": "markdown",
   "metadata": {},
   "source": [
    "# K means.\n",
    "Noted that this is unsupervised and we need to provide number of classes which can be found from `len(set(MIC column))`"
   ]
  },
  {
   "cell_type": "markdown",
   "metadata": {},
   "source": [
    "# SVM"
   ]
  },
  {
   "cell_type": "code",
   "execution_count": 12,
   "metadata": {},
   "outputs": [
    {
     "name": "stdout",
     "output_type": "stream",
     "text": [
      "Accuracy: 0.6070075757575758\n",
      "Accuracy (2 dilutions): 0.6931818181818182\n"
     ]
    }
   ],
   "source": [
    "clf = svm.SVC()\n",
    "clf.fit(X_train, y_train)\n",
    "y_pred = clf.predict(X_test)\n",
    "\n",
    "# Prediction\n",
    "score = accuracy_score(y_test, y_pred)\n",
    "print(f\"Accuracy: {score}\")\n",
    "\n",
    "# 2 dilutions Prediction\n",
    "score += accuracy_score(y_test_up, y_pred)\n",
    "score += accuracy_score(y_test_down, y_pred)\n",
    "print(f\"Accuracy (2 dilutions): {score}\")\n",
    "\n",
    "# Confusion matrix\n",
    "print(create_confusion_matrix(y_test, y_pred))"
   ]
  },
  {
   "cell_type": "markdown",
   "metadata": {},
   "source": [
    "# Decision tree"
   ]
  },
  {
   "cell_type": "code",
   "execution_count": 14,
   "metadata": {},
   "outputs": [
    {
     "name": "stdout",
     "output_type": "stream",
     "text": [
      "Accuracy: 0.7566287878787878\n",
      "Accuracy (2 dilutions): 0.8768939393939393\n"
     ]
    }
   ],
   "source": [
    "clf = tree.DecisionTreeClassifier()\n",
    "clf.fit(X_train, y_train)\n",
    "y_pred = clf.predict(X_test)\n",
    "\n",
    "# Prediction\n",
    "score = accuracy_score(y_test, y_pred)\n",
    "print(f\"Accuracy: {score}\")\n",
    "\n",
    "# 2 dilutions Prediction\n",
    "score += accuracy_score(y_test_up, y_pred)\n",
    "score += accuracy_score(y_test_down, y_pred)\n",
    "print(f\"Accuracy (2 dilutions): {score}\")\n",
    "\n",
    "# Confusion matrix\n",
    "print(create_confusion_matrix(y_test, y_pred))"
   ]
  },
  {
   "cell_type": "markdown",
   "metadata": {},
   "source": [
    "# Random Forest"
   ]
  },
  {
   "cell_type": "code",
   "execution_count": 17,
   "metadata": {},
   "outputs": [
    {
     "name": "stdout",
     "output_type": "stream",
     "text": [
      "Accuracy: 0.8399621212121212\n",
      "Accuracy (2 dilutions): 0.9299242424242424\n"
     ]
    }
   ],
   "source": [
    "clf = ensemble.RandomForestClassifier(n_estimators=100, max_features=\"auto\",random_state=0)\n",
    "clf.fit(X_train, y_train)\n",
    "y_pred = clf.predict(X_test)\n",
    "\n",
    "# Prediction\n",
    "score = accuracy_score(y_test, y_pred)\n",
    "print(f\"Accuracy: {score}\")\n",
    "\n",
    "# 2 dilutions Prediction\n",
    "score += accuracy_score(y_test_up, y_pred)\n",
    "score += accuracy_score(y_test_down, y_pred)\n",
    "print(f\"Accuracy (2 dilutions): {score}\")\n",
    "\n",
    "# Confusion matrix\n",
    "print(create_confusion_matrix(y_test, y_pred))"
   ]
  },
  {
   "cell_type": "markdown",
   "metadata": {},
   "source": [
    "# AdaBoost"
   ]
  },
  {
   "cell_type": "code",
   "execution_count": 19,
   "metadata": {},
   "outputs": [
    {
     "name": "stdout",
     "output_type": "stream",
     "text": [
      "Accuracy: 0.6647727272727273\n",
      "Accuracy (2 dilutions): 0.7443181818181819\n"
     ]
    }
   ],
   "source": [
    "clf = ensemble.AdaBoostClassifier(n_estimators=100)\n",
    "clf.fit(X_train, y_train)\n",
    "y_pred = clf.predict(X_test)\n",
    "\n",
    "# Prediction\n",
    "score = accuracy_score(y_test, y_pred)\n",
    "print(f\"Accuracy: {score}\")\n",
    "\n",
    "# 2 dilutions Prediction\n",
    "score += accuracy_score(y_test_up, y_pred)\n",
    "score += accuracy_score(y_test_down, y_pred)\n",
    "print(f\"Accuracy (2 dilutions): {score}\")\n",
    "\n",
    "# Confusion matrix\n",
    "print(create_confusion_matrix(y_test, y_pred))"
   ]
  },
  {
   "cell_type": "markdown",
   "metadata": {},
   "source": [
    "# Gradient Boosting"
   ]
  },
  {
   "cell_type": "code",
   "execution_count": 21,
   "metadata": {},
   "outputs": [
    {
     "name": "stdout",
     "output_type": "stream",
     "text": [
      "Accuracy: 0.8380681818181818\n",
      "Accuracy (2 dilutions): 0.9318181818181818\n"
     ]
    }
   ],
   "source": [
    "clf = ensemble.GradientBoostingClassifier(n_estimators=100)\n",
    "clf.fit(X_train, y_train)\n",
    "y_pred = clf.predict(X_test)\n",
    "\n",
    "# Prediction\n",
    "score = accuracy_score(y_test, y_pred)\n",
    "print(f\"Accuracy: {score}\")\n",
    "\n",
    "# 2 dilutions Prediction\n",
    "score += accuracy_score(y_test_up, y_pred)\n",
    "score += accuracy_score(y_test_down, y_pred)\n",
    "print(f\"Accuracy (2 dilutions): {score}\")\n",
    "\n",
    "# Confusion matrix\n",
    "print(create_confusion_matrix(y_test, y_pred))"
   ]
  }
 ],
 "metadata": {
  "kernelspec": {
   "display_name": "Python 3",
   "language": "python",
   "name": "python3"
  },
  "language_info": {
   "codemirror_mode": {
    "name": "ipython",
    "version": 3
   },
   "file_extension": ".py",
   "mimetype": "text/x-python",
   "name": "python",
   "nbconvert_exporter": "python",
   "pygments_lexer": "ipython3",
   "version": "3.7.5"
  }
 },
 "nbformat": 4,
 "nbformat_minor": 4
}
