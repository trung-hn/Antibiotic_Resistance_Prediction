{
 "cells": [
  {
   "cell_type": "code",
   "execution_count": 1,
   "metadata": {},
   "outputs": [],
   "source": [
    "# Nearest Neighbors Algorithm Testing\n",
    "# 12 February 2020\n",
    "\n",
    "# Import modules\n",
    "import pandas as pd\n",
    "from sklearn.metrics import accuracy_score\n",
    "from sklearn.model_selection import train_test_split\n",
    "from sklearn.neighbors import KNeighborsClassifier\n",
    "\n",
    "# Retrieve data from pickles\n",
    "table1 = pd.read_pickle(\"TRAININGDATA.SALAMP.xlsx K3-Part0.p\")\n",
    "table2 = pd.read_pickle(\"TRAININGDATA.SALAMP.xlsx K3-Part1.p\")\n",
    "table = table1.append(table2)\n",
    "\n",
    "# Fix DataFrame column names\n",
    "table.columns = [v for v in table.columns[:1]] + [\"MIC_val\"] + [v for v in table.columns[2:]]\n",
    "dummies = pd.get_dummies(table.Antibiotic)\n",
    "table = pd.concat([table, dummies], axis=1)\n",
    "X = table.drop(table.columns[1], axis=1).drop(\"Antibiotic\", axis=1)\n",
    "y = table.iloc[:, 1]\n",
    "\n",
    "# Train test split\n",
    "X_train, X_test, y_train, y_test = train_test_split(X, y, test_size=0.33, random_state=42)\n",
    "y_test_up = pd.DataFrame([str(float(x) + 1) for x in y_test]).iloc[:, 0]\n",
    "y_test_down = pd.DataFrame([str(float(x) - 1) for x in y_test]).iloc[:, 0]\n"
   ]
  },
  {
   "cell_type": "code",
   "execution_count": 2,
   "metadata": {},
   "outputs": [
    {
     "data": {
      "text/plain": [
       "KNeighborsClassifier(algorithm='auto', leaf_size=30, metric='minkowski',\n",
       "           metric_params=None, n_jobs=1, n_neighbors=5, p=2,\n",
       "           weights='uniform')"
      ]
     },
     "execution_count": 2,
     "metadata": {},
     "output_type": "execute_result"
    }
   ],
   "source": [
    "# Fit Nearest Neighbor Classifier, n=5\n",
    "n1 = 5\n",
    "nn5_clf = KNeighborsClassifier(n_neighbors=n1, weights='uniform', algorithm='auto', leaf_size=30, p=2)\n",
    "nn5_clf.fit(X_train, y_train)\n"
   ]
  },
  {
   "cell_type": "code",
   "execution_count": 3,
   "metadata": {},
   "outputs": [
    {
     "data": {
      "text/plain": [
       "KNeighborsClassifier(algorithm='auto', leaf_size=30, metric='minkowski',\n",
       "           metric_params=None, n_jobs=1, n_neighbors=10, p=2,\n",
       "           weights='uniform')"
      ]
     },
     "execution_count": 3,
     "metadata": {},
     "output_type": "execute_result"
    }
   ],
   "source": [
    "# Fit Nearest Neighbor Classifier, n=50\n",
    "n2 = 10\n",
    "nn50_clf = KNeighborsClassifier(n_neighbors=n2, weights='uniform', algorithm='auto', leaf_size=30, p=2)\n",
    "nn50_clf.fit(X_train, y_train)\n"
   ]
  },
  {
   "cell_type": "code",
   "execution_count": 5,
   "metadata": {},
   "outputs": [
    {
     "name": "stdout",
     "output_type": "stream",
     "text": [
      "NN = 5: 0.836969\n",
      "NN = 10: 0.836395\n"
     ]
    }
   ],
   "source": [
    "# Calculate Accuracy Scores\n",
    "for model, name in zip((nn5_clf, nn50_clf), (\"NN = %s\" % n1, \"NN = %s\" % n2)):\n",
    "    y_predict_test = model.predict(X_test)\n",
    "    score = accuracy_score(y_predict_test, y_test)\n",
    "    score += accuracy_score(y_predict_test, y_test_up)\n",
    "    score += accuracy_score(y_predict_test, y_test_down)\n",
    "    print(\"%s: %f\" % (name, score))\n"
   ]
  }
 ],
 "metadata": {
  "kernelspec": {
   "display_name": "Python 3",
   "language": "python",
   "name": "python3"
  },
  "language_info": {
   "codemirror_mode": {
    "name": "ipython",
    "version": 3
   },
   "file_extension": ".py",
   "mimetype": "text/x-python",
   "name": "python",
   "nbconvert_exporter": "python",
   "pygments_lexer": "ipython3",
   "version": "3.7.3"
  }
 },
 "nbformat": 4,
 "nbformat_minor": 4
}
